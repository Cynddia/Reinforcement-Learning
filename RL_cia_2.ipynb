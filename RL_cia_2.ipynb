{
  "nbformat": 4,
  "nbformat_minor": 0,
  "metadata": {
    "colab": {
      "provenance": []
    },
    "kernelspec": {
      "name": "python3",
      "display_name": "Python 3"
    },
    "language_info": {
      "name": "python"
    }
  },
  "cells": [
    {
      "cell_type": "markdown",
      "source": [
        "**Create a 100x100 grid with obstacles in between 2 random points. Build an MDP based RL agent to optimise both policies and actions at every state. Benchmark DP method with other RL solutions for the same problem.**\n"
      ],
      "metadata": {
        "id": "nk32I2WvYuJq"
      }
    },
    {
      "cell_type": "code",
      "source": [
        "import numpy as np\n",
        "import random\n",
        "import matplotlib.pyplot as plt"
      ],
      "metadata": {
        "id": "JC00yGx4bLG8"
      },
      "execution_count": 1,
      "outputs": []
    },
    {
      "cell_type": "markdown",
      "source": [
        "Chosen Parameters"
      ],
      "metadata": {
        "id": "ZWXPheCHbUsW"
      }
    },
    {
      "cell_type": "code",
      "source": [
        "grid_size = (100, 100)\n",
        "obstacle_count = 2000\n",
        "start = (random.randint(0, 99), random.randint(0, 99))\n",
        "end = (random.randint(0, 99), random.randint(0, 99))\n",
        "discount_factor = 0.9\n",
        "theta = 1e-4"
      ],
      "metadata": {
        "id": "4IhjXEARbLEF"
      },
      "execution_count": 3,
      "outputs": []
    },
    {
      "cell_type": "markdown",
      "source": [
        "Actions and rewards"
      ],
      "metadata": {
        "id": "m14rb9mnbaXV"
      }
    },
    {
      "cell_type": "code",
      "source": [
        "actions = [\"up\", \"down\", \"left\", \"right\"]\n",
        "action_vectors = {\"up\": (-1, 0), \"down\": (1, 0), \"left\": (0, -1), \"right\": (0, 1)}\n",
        "reward_default = -1\n",
        "reward_goal = 100"
      ],
      "metadata": {
        "id": "oMKZdLifbLBW"
      },
      "execution_count": 4,
      "outputs": []
    },
    {
      "cell_type": "markdown",
      "source": [
        "100x100 grid with obstacles\n"
      ],
      "metadata": {
        "id": "Q4EPOQZ0bgi5"
      }
    },
    {
      "cell_type": "code",
      "source": [
        "grid = np.zeros(grid_size)\n",
        "for _ in range(obstacle_count):\n",
        "    obs = (random.randint(0, 99), random.randint(0, 99))\n",
        "    if obs != start and obs != end:\n",
        "        grid[obs] = -1"
      ],
      "metadata": {
        "id": "e2Mx0fLlbK-P"
      },
      "execution_count": 5,
      "outputs": []
    },
    {
      "cell_type": "code",
      "source": [
        "grid[start] = 1\n",
        "grid[end] = 2"
      ],
      "metadata": {
        "id": "qY4FSI1UbK7F"
      },
      "execution_count": 6,
      "outputs": []
    },
    {
      "cell_type": "code",
      "source": [
        "def next_state(state, action):\n",
        "    x, y = state\n",
        "    dx, dy = action_vectors[action]\n",
        "    next_x, next_y = max(0, min(x + dx, grid_size[0] - 1)), max(0, min(y + dy, grid_size[1] - 1))\n",
        "    return (next_x, next_y) if grid[(next_x, next_y)] != -1 else state\n",
        "\n",
        "def initialize_rewards():\n",
        "    rewards = np.full(grid_size, reward_default)\n",
        "    rewards[end] = reward_goal\n",
        "    return rewards"
      ],
      "metadata": {
        "id": "Ydr_obh5bK3-"
      },
      "execution_count": 7,
      "outputs": []
    },
    {
      "cell_type": "code",
      "source": [
        "def value_iteration(rewards):\n",
        "    values = np.zeros(grid_size)\n",
        "    delta = float(\"inf\")\n",
        "    while delta > theta:\n",
        "        delta = 0\n",
        "        for x in range(grid_size[0]):\n",
        "            for y in range(grid_size[1]):\n",
        "                state = (x, y)\n",
        "                if state == end or grid[state] == -1:\n",
        "                    continue\n",
        "                v = values[state]\n",
        "                values[state] = max([0.25 * (rewards[state] + discount_factor * values[next_state(state, a)])\n",
        "                                     for a in actions])\n",
        "                delta = max(delta, abs(v - values[state]))\n",
        "    return values"
      ],
      "metadata": {
        "id": "SoWdUkf7cFIB"
      },
      "execution_count": 8,
      "outputs": []
    },
    {
      "cell_type": "markdown",
      "source": [
        "Q learning agent"
      ],
      "metadata": {
        "id": "KO9zawR8cJJx"
      }
    },
    {
      "cell_type": "code",
      "source": [
        "def q_learning(rewards, alpha=0.1, epsilon=0.1, episodes=5000):\n",
        "    q_values = np.zeros((*grid_size, len(actions)))\n",
        "    for episode in range(episodes):\n",
        "        state = start\n",
        "        while state != end:\n",
        "            if random.uniform(0, 1) < epsilon:\n",
        "                action_index = random.choice(range(len(actions)))  # Explore\n",
        "            else:\n",
        "                action_index = np.argmax(q_values[state])  # Exploit\n",
        "\n",
        "            next_s = next_state(state, actions[action_index])\n",
        "            reward = rewards[next_s]\n",
        "\n",
        "            # Q-learning update\n",
        "            best_next_action = np.max(q_values[next_s])\n",
        "            q_values[state][action_index] += alpha * (reward + discount_factor * best_next_action - q_values[state][action_index])\n",
        "\n",
        "            state = next_s  # Move to next state\n",
        "    return q_values"
      ],
      "metadata": {
        "id": "9MjJbfkpcFAP"
      },
      "execution_count": 9,
      "outputs": []
    },
    {
      "cell_type": "markdown",
      "source": [
        "Evaluation Policies"
      ],
      "metadata": {
        "id": "25TseFs2cSEq"
      }
    },
    {
      "cell_type": "code",
      "source": [
        "def run_episode(policy, rewards, start, end):\n",
        "    state = start\n",
        "    total_reward = 0\n",
        "    steps = 0\n",
        "    while state != end and steps < 1000:\n",
        "        action = policy[state]\n",
        "        state = next_state(state, actions[action])\n",
        "        total_reward += rewards[state]\n",
        "        steps += 1\n",
        "    return steps, total_reward\n",
        "\n",
        "def extract_policy_from_values(values):\n",
        "    policy = np.zeros(grid_size, dtype=int)\n",
        "    for x in range(grid_size[0]):\n",
        "        for y in range(grid_size[1]):\n",
        "            state = (x, y)\n",
        "            action_values = [values[next_state(state, a)] for a in actions]\n",
        "            policy[state] = np.argmax(action_values)\n",
        "    return policy\n",
        "\n",
        "def extract_policy_from_q_values(q_values):\n",
        "    policy = np.argmax(q_values, axis=-1)\n",
        "    return policy\n"
      ],
      "metadata": {
        "id": "YYcUOuPgcE9K"
      },
      "execution_count": 10,
      "outputs": []
    },
    {
      "cell_type": "code",
      "source": [
        "rewards = initialize_rewards()"
      ],
      "metadata": {
        "id": "-pYjDGh6cE5x"
      },
      "execution_count": 11,
      "outputs": []
    },
    {
      "cell_type": "code",
      "source": [
        "values = value_iteration(rewards)\n",
        "dp_policy = extract_policy_from_values(values)\n",
        "\n",
        "q_values = q_learning(rewards)\n",
        "q_policy = extract_policy_from_q_values(q_values)"
      ],
      "metadata": {
        "id": "QF8DOH4ScP64"
      },
      "execution_count": 12,
      "outputs": []
    },
    {
      "cell_type": "code",
      "source": [
        "dp_steps, dp_rewards = run_episode(dp_policy, rewards, start, end)\n",
        "q_steps, q_rewards = run_episode(q_policy, rewards, start, end)"
      ],
      "metadata": {
        "id": "Gw_PwRAccP1Q"
      },
      "execution_count": 13,
      "outputs": []
    },
    {
      "cell_type": "code",
      "source": [
        "print(f\"DP Policy - Steps to Goal: {dp_steps}, Total Reward: {dp_rewards}\")\n",
        "print(f\"Q-Learning Policy - Steps to Goal: {q_steps}, Total Reward: {q_rewards}\")"
      ],
      "metadata": {
        "colab": {
          "base_uri": "https://localhost:8080/"
        },
        "id": "yioENhNocPyj",
        "outputId": "95a14378-9b64-48b1-afe0-d32953c2fac3"
      },
      "execution_count": 14,
      "outputs": [
        {
          "output_type": "stream",
          "name": "stdout",
          "text": [
            "DP Policy - Steps to Goal: 1000, Total Reward: -1000\n",
            "Q-Learning Policy - Steps to Goal: 29, Total Reward: 72\n"
          ]
        }
      ]
    },
    {
      "cell_type": "code",
      "source": [
        "plt.figure(figsize=(10, 10))\n",
        "plt.imshow(grid, cmap=\"gray\")\n",
        "plt.scatter([start[1], end[1]], [start[0], end[0]], c=\"red\", marker=\"X\")\n",
        "plt.title(\"Grid with Obstacles, Start, and End Points\")\n",
        "plt.show()\n"
      ],
      "metadata": {
        "colab": {
          "base_uri": "https://localhost:8080/",
          "height": 853
        },
        "id": "IP-pYlIbciAw",
        "outputId": "ba447add-1e7b-4f8f-8fd2-e44a4ca9289c"
      },
      "execution_count": 15,
      "outputs": [
        {
          "output_type": "display_data",
          "data": {
            "text/plain": [
              "<Figure size 1000x1000 with 1 Axes>"
            ],
            "image/png": "[encoded data removed]"
          },
          "metadata": {}
        }
      ]
    }
  ]
}